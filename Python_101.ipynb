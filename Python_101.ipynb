{
  "nbformat": 4,
  "nbformat_minor": 0,
  "metadata": {
    "colab": {
      "provenance": [],
      "include_colab_link": true
    },
    "kernelspec": {
      "name": "python3",
      "display_name": "Python 3"
    },
    "language_info": {
      "name": "python"
    }
  },
  "cells": [
    {
      "cell_type": "markdown",
      "metadata": {
        "id": "view-in-github",
        "colab_type": "text"
      },
      "source": [
        "<a href=\"https://colab.research.google.com/github/Kunkin/Python-101/blob/main/Python_101.ipynb\" target=\"_parent\"><img src=\"https://colab.research.google.com/assets/colab-badge.svg\" alt=\"Open In Colab\"/></a>"
      ]
    },
    {
      "cell_type": "markdown",
      "source": [
        "#Learning Python ft. Juaco and Visios\n",
        "___\n",
        "\n",
        "Welcome to the brand new online notebook to learn and exersice Python programing languaje.\n",
        "\n",
        "I (__<font color='green'>Kunkin</font>__) think that a good idea is to explain a problem in one Markdown Cell (text cell) and then we can solve it in two diferent Code Cells. Ladies first so the first Code Cell bellow every problem will be yours (Visios). Maybe we can use to one Markdown cell to explain what are we doing.\n",
        "\n",
        "What problems? of course we are going to first do the basics. The USM Programation course problems, A.K.A. [PROGRA](http://progra.usm.cl/apunte/ejercicios/)\n",
        "___\n",
        "\n",
        "<a name=\"index\"></a>\n",
        "Here an index for the problems:\n",
        "\n",
        "- Part I\n",
        "  - Simple programmes\n",
        "    0. [Hello world](#hello-world)\n",
        "    1. [Greetings](#saludo)\n",
        "    2. [Circles](#circles)\n",
        "    3. [Average](#average)\n",
        "    4. [Conversion of length units](#Conversion-of-length-units)\n",
        "    5. [Inverted number](#Inverted-number)\n",
        "    6. [Pythagoras](#Pythagoras)\n",
        "    7. [Future time](#Future-time)\n",
        "    8. [Decimal part](#Decimal-part)\n",
        "    9. [What grade I need](#What-grade-I-need)\n",
        "    10. [Eggs in a cup](#Eggs-in-a-cup)\n",
        "  - Conditional structures\n",
        "    1. [Determine even](#Determine-even)\n",
        "    2. [Leap years](#Leap-years)\n",
        "    3. [Division](#Division)\n",
        "    4. [Longest-word](#Longest-word)\n",
        "    5. [Sorting](#Sorting)\n",
        "    6. [Letter or number](#Letter-or-number)\n",
        "  - Cicles\n",
        "  - Comon patherns\n",
        "  - Ruting\n",
        "  - Algorithm design\n",
        "    1. [Pascal's triangle](#Pascal's-triangle)"
      ],
      "metadata": {
        "id": "kBO0RoYxZIoy"
      }
    },
    {
      "cell_type": "markdown",
      "source": [
        "<a name=\"hello-world\"></a>\n",
        "## Hello world [↑](#index)\n",
        "Basically print \"hello world\" in the console\n",
        "\n",
        "``\n",
        "Hello world\n",
        "``"
      ],
      "metadata": {
        "id": "MF42DIETbh3N"
      }
    },
    {
      "cell_type": "code",
      "execution_count": null,
      "metadata": {
        "id": "gd-D3ee1ZEYZ",
        "colab": {
          "base_uri": "https://localhost:8080/"
        },
        "outputId": "687f8c91-9599-401a-eab7-e0ac623e1169"
      },
      "outputs": [
        {
          "output_type": "stream",
          "name": "stdout",
          "text": [
            "hello world\n"
          ]
        }
      ],
      "source": [
        "#Visios\n",
        "print(\"hello world\")"
      ]
    },
    {
      "cell_type": "code",
      "source": [
        "#Kunkin\n",
        "print(\"hello world\")"
      ],
      "metadata": {
        "colab": {
          "base_uri": "https://localhost:8080/"
        },
        "id": "NdYalTYKcHXA",
        "outputId": "439158e5-d79a-459e-cdd5-4b13d9d4e6ca"
      },
      "execution_count": null,
      "outputs": [
        {
          "output_type": "stream",
          "name": "stdout",
          "text": [
            "hello world\n"
          ]
        }
      ]
    },
    {
      "cell_type": "markdown",
      "source": [
        "<a name=\"saludo\"></a>\n",
        "## Greetings [↑](#index)\n",
        "\n",
        "Write a program that prompts the user to type his name, and greets him by calling him by name.\n",
        "\n",
        "```\n",
        "Enter your name: Perico\n",
        "Hello, Perico\n",
        "```\n",
        "\n"
      ],
      "metadata": {
        "id": "njURznkndF4e"
      }
    },
    {
      "cell_type": "code",
      "source": [
        "#Visios\n",
        "name=input(\"Enter your name:\")\n",
        "print(\"Hello, {}\".format(name))"
      ],
      "metadata": {
        "id": "Z45XJ5kyeXQ6",
        "colab": {
          "base_uri": "https://localhost:8080/"
        },
        "outputId": "54de790c-9dbc-49f3-c6b9-4582e8b3248b"
      },
      "execution_count": null,
      "outputs": [
        {
          "output_type": "stream",
          "name": "stdout",
          "text": [
            "Enter your name:Vicente\n",
            "Hello, Vicente\n"
          ]
        }
      ]
    },
    {
      "cell_type": "code",
      "source": [
        "#Kunkin\n",
        "a=str(input(\"Enter your name: \"))\n",
        "print(\"Hello,\",a)"
      ],
      "metadata": {
        "colab": {
          "base_uri": "https://localhost:8080/"
        },
        "id": "WKlL8PjueXes",
        "outputId": "a738d031-2ba9-4414-ff06-2a3ed933e07e"
      },
      "execution_count": null,
      "outputs": [
        {
          "output_type": "stream",
          "name": "stdout",
          "text": [
            "Enter your name: Perico\n",
            "Hello, Perico\n"
          ]
        }
      ]
    },
    {
      "cell_type": "markdown",
      "source": [
        "<a name=\"circles\"></a>\n",
        "## Circles [↑](#index)\n",
        "\n",
        "Write a program that receives as input the radius of a circle and outputs its perimeter and area:\n",
        "\n",
        "```\n",
        "Input radius: 5\n",
        "Perimeter: 31.4\n",
        "Area: 78.5\n",
        "```"
      ],
      "metadata": {
        "id": "6HJzOolBU7Ra"
      }
    },
    {
      "cell_type": "code",
      "source": [
        "#Visios\n",
        "radius=float(input(\"Enter the cirle radius:\"))\n",
        "pi=3.14\n",
        "perimeter= 2*pi*radius\n",
        "area= pi*radius*radius\n",
        "print ('''Perimeter= {0}\n",
        "    Area= {1}'''.format(perimeter,area))\n",
        "#Need to fix this\n",
        "\n",
        "#2nd Try: First we import number Pi from the math library\n",
        "\n",
        "from math import pi\n",
        "\n",
        "#then we describe the circle perimeter and circle area function for the variable \"r\"\n",
        "\n",
        "r=float(input(\"Enter the circle radius:\"))\n",
        "p= 2*pi*r\n",
        "a= pi*pow(r,2)\n",
        "\n",
        "#finally we print the perimeter and the area, rounded to one decimal for an easy reading.\n",
        "\n",
        "print ('''perimeter= {0}\n",
        "    area= {1}'''.format(round(p,1), round(a,1)))\n",
        "#Notice that to power a number we can use the operator \"**\" or the function pow(base, exp)\n",
        "\n"
      ],
      "metadata": {
        "id": "ocMSGeuWXD8P",
        "colab": {
          "base_uri": "https://localhost:8080/"
        },
        "outputId": "5df9efb6-2486-46bc-e9ec-deae2a4a8bbe"
      },
      "execution_count": null,
      "outputs": [
        {
          "output_type": "stream",
          "name": "stdout",
          "text": [
            "Enter the cirle radius:5\n",
            "Perimeter= 31.400000000000002\n",
            "    Area= 78.5\n",
            "Enter the circle radius:5\n",
            "perimeter= 31.4\n",
            "    area= 78.5\n"
          ]
        }
      ]
    },
    {
      "cell_type": "markdown",
      "source": [
        "`#Kunkin`\n",
        "\n",
        "I'm going to import the precious number pi from the `math` library using `from math import pi`, then I'm going to follow this algorithm to find the area and perimeter with the radius as variable:\n",
        "\n",
        "\\begin{align}\n",
        "\\text{perimeter}=2\\pi r\\\\\n",
        "\\text{area}= \\pi r^2\n",
        "\\end{align}\n",
        "\n",
        "then I'm going to print ecerything using `round()` to show a nice looking number."
      ],
      "metadata": {
        "id": "jGcTbFfiby9q"
      }
    },
    {
      "cell_type": "code",
      "source": [
        "#Kunkin\n",
        "from math import pi\n",
        "r=float(input(\"Input radius: \"))\n",
        "perimeter=2*pi*r\n",
        "area=pi*r**2\n",
        "print(\"Perimeter:\",round(perimeter,1),\"\\nArea:\",round(area,1))"
      ],
      "metadata": {
        "colab": {
          "base_uri": "https://localhost:8080/"
        },
        "id": "EJGcDltyXDyD",
        "outputId": "8223f8af-531c-4f6c-8df3-d47fb53f7ae6"
      },
      "execution_count": null,
      "outputs": [
        {
          "output_type": "stream",
          "name": "stdout",
          "text": [
            "Input radius: 5\n",
            "Perimeter: 31.4 \n",
            "Area: 78.5\n"
          ]
        }
      ]
    },
    {
      "cell_type": "markdown",
      "source": [
        "<a name=\"average\"></a>\n",
        "## Average [↑](#index)\n",
        "\n",
        "Write a program that calculates the average of 4 grades entered by the user:\n",
        "```\n",
        "First grade: 55\n",
        "Second grade: 71\n",
        "Third grade: 46\n",
        "Fourth grade: 87\n",
        "The average is: 64.75\n",
        "```"
      ],
      "metadata": {
        "id": "FdELeFFdYTzF"
      }
    },
    {
      "cell_type": "markdown",
      "source": [
        "For this we going to use this mathematical formula to calculate the average of 4 numbers:\n",
        "\n",
        "n1 + n2 + n3 + n4 / 4\n",
        "\n",
        "asking the user to introduce the grades trough an input command. Then we print using the .format method for an easy reading."
      ],
      "metadata": {
        "id": "xltR7KCrDJ94"
      }
    },
    {
      "cell_type": "code",
      "source": [
        "#Visios\n",
        "\n",
        "#while i<4:\n",
        "   #a(i) =float(input(\"Input grade\"))\n",
        "#tried to define variables in a while, but dont know if it would work, maybe if I put the inputs into a tuple, but I have to research a bit more.\n",
        "\n",
        "#g1=float(input(\"Input grade:\"))\n",
        "#g2=float(input(\"Input grade:\"))\n",
        "#g3=float(input(\"Input grade:\"))\n",
        "#g4=float(input(\"Input grade:\"))\n",
        "#average1= float((g1+g2+g3+g4)/4)\n",
        "#print(\"The average is {:.2f}\".format(average))\n",
        "\n",
        "#We're going to define the variable \"a\" as an empty list, and then with the .append command we are gonna fill that list with the grades we need for make the calculations of the average.\n",
        "\n",
        "a=[]\n",
        "for i in range(4):\n",
        "    a.append(float(input(\"Input {} º grade:\".format(i+1))))\n",
        "average=sum(a)/len(a)\n",
        "print(\"The average is {:.2f}\".format(average))"
      ],
      "metadata": {
        "id": "oES4uRPKYlEy",
        "colab": {
          "base_uri": "https://localhost:8080/"
        },
        "outputId": "1dc87a16-e92d-4665-c0b8-ec320c57a8c7"
      },
      "execution_count": null,
      "outputs": [
        {
          "output_type": "stream",
          "name": "stdout",
          "text": [
            "Input 1 º grade:55\n",
            "Input 2 º grade:71\n",
            "Input 3 º grade:46\n",
            "Input 4 º grade:87\n",
            "the average is 64.75\n"
          ]
        }
      ]
    },
    {
      "cell_type": "code",
      "source": [
        "a=[]\n",
        "for i in range(4):\n",
        "  a.append(int(input(\"Input \"+str(i)+\"° grade: \")))\n",
        "print(sum(a)/len(a))"
      ],
      "metadata": {
        "id": "Uv60t65tWtUt",
        "colab": {
          "base_uri": "https://localhost:8080/"
        },
        "outputId": "89b7b917-8ba4-4f55-c61d-d9c3489dd756"
      },
      "execution_count": null,
      "outputs": [
        {
          "output_type": "stream",
          "name": "stdout",
          "text": [
            "Input 0° grade: 4\n",
            "Input 1° grade: 6\n",
            "Input 2° grade: 8\n",
            "Input 3° grade: 10\n",
            "7.0\n"
          ]
        }
      ]
    },
    {
      "cell_type": "markdown",
      "source": [
        "`#Kunkin`\n",
        "\n",
        "I'm going to follow this logic:\n",
        "\n",
        "\\begin{align}\n",
        "\\text{average}=\\frac{\\sum_{i=1}^{i=n}x_i}{n}\n",
        "\\end{align}\n",
        "\n",
        "I convert the `str` inputs in `float` to be able to operate mathematically with the variables. And also use `round()` to print a good looking number"
      ],
      "metadata": {
        "id": "3dc46IYzZq4X"
      }
    },
    {
      "cell_type": "code",
      "source": [
        "#Kunkin\n",
        "first=float(input(\"First grade: \"))\n",
        "second=float(input(\"Second grade: \"))\n",
        "third=float(input(\"Third grade: \"))\n",
        "fourth=float(input(\"Fourth grade: \"))\n",
        "average=round((first+second+third+fourth)/4,2)\n",
        "print(\"The average is:\",average)"
      ],
      "metadata": {
        "colab": {
          "base_uri": "https://localhost:8080/"
        },
        "id": "1v_S1rKsYkS2",
        "outputId": "2df135ed-ade0-4984-d864-6bd2ae235731"
      },
      "execution_count": null,
      "outputs": [
        {
          "output_type": "stream",
          "name": "stdout",
          "text": [
            "First grade: 55\n",
            "Second grade: 71\n",
            "Third grade: 46\n",
            "Fourth grade: 87\n",
            "The average is: 64.75\n"
          ]
        }
      ]
    },
    {
      "cell_type": "markdown",
      "source": [
        "<a name=\"Conversion-of-length-units\"></a>\n",
        "## Conversion of length units [↑](#index)\n",
        "\n",
        "Write a program that converts from centimeters to inches. One inch is equal to 2.54 centimeters.\n",
        "```\n",
        "Enter length: 45\n",
        "45 cm = 17.7165 in\n",
        "\n",
        "Enter length: 13\n",
        "13 cm = 5.1181 in\n",
        "```"
      ],
      "metadata": {
        "id": "YX90gGf8dKRR"
      }
    },
    {
      "cell_type": "code",
      "source": [
        "#Visios\n",
        "#First we ask for an input of the lenght in centimeters\n",
        "l=(float(input(\"lenght (cm): \")))\n",
        "#then we print the convertion, divding l/2.54 to get the inch value.\n",
        "print(\"{} cm = {:4f} in\".format(l,l/2.54))"
      ],
      "metadata": {
        "id": "nG88XlEMdjOV",
        "colab": {
          "base_uri": "https://localhost:8080/"
        },
        "outputId": "1a22c222-6143-4231-fc52-6f3e8ab309b4"
      },
      "execution_count": null,
      "outputs": [
        {
          "output_type": "stream",
          "name": "stdout",
          "text": [
            "lenght (cm): 13\n",
            "13.0 cm = 5.118110 in\n"
          ]
        }
      ]
    },
    {
      "cell_type": "code",
      "source": [
        "#Kunkin\n",
        "a=int(input(\"Enter length: \"))\n",
        "print(a,\"cm =\",round(a/2.54,4),\"in\")"
      ],
      "metadata": {
        "colab": {
          "base_uri": "https://localhost:8080/"
        },
        "id": "bVK13Sbadj7q",
        "outputId": "a722bbc9-39b4-4f74-caa4-7cebed148fe6"
      },
      "execution_count": null,
      "outputs": [
        {
          "output_type": "stream",
          "name": "stdout",
          "text": [
            "Enter length: 45\n",
            "45 cm = 17.7165 in\n"
          ]
        }
      ]
    },
    {
      "cell_type": "markdown",
      "source": [
        "<a name=\"Inverted-number\"></a>\n",
        "## Inverted number [↑](#index)\n",
        "\n",
        "\n",
        "Write a program that prompts the user for a three-digit integer, and delivers the number with the digits in reverse order:\n",
        "\n",
        "```\n",
        "Enter number: 345\n",
        "543\n",
        "```\n",
        "```\n",
        "Enter number: 241\n",
        "142\n",
        "```"
      ],
      "metadata": {
        "id": "H1VP63PBtvh0"
      }
    },
    {
      "cell_type": "code",
      "source": [
        "#Visios"
      ],
      "metadata": {
        "id": "QoisDb15uC8j"
      },
      "execution_count": null,
      "outputs": []
    },
    {
      "cell_type": "code",
      "source": [
        "#Kunkin\n",
        "\n",
        "#I make a input\n",
        "a=input(\"Enter number: \")\n",
        "#I make a empty STR var\n",
        "b=\"\"\n",
        "#I add to the empty STR var the characters of a in an inversed way\n",
        "for i in range(len(a)):\n",
        "  #with len(a)-i-1 I'm going to go over the STR a from end to start\n",
        "  #adding every character to b\n",
        "  b=b+a[len(a)-i-1]\n",
        "print(b)"
      ],
      "metadata": {
        "colab": {
          "base_uri": "https://localhost:8080/"
        },
        "id": "9rRFe_3euEEm",
        "outputId": "ccda36dd-be30-4b81-c222-e765d98ecff5"
      },
      "execution_count": null,
      "outputs": [
        {
          "output_type": "stream",
          "name": "stdout",
          "text": [
            "Enter number: 345\n",
            "543\n"
          ]
        }
      ]
    },
    {
      "cell_type": "markdown",
      "source": [
        "<a name=\"Pythagoras\"></a>\n",
        "## Pythagoras [↑](#index)\n",
        "\n",
        "\n",
        "Write a program that receives as input the lengths of the two legs a\n",
        "and b of a right triangle, and that gives as output the length of the hypotenuse c of the triangle, given by the Pythagorean theorem:\n",
        "\\begin{align}\n",
        "c2=a2+b2\n",
        "\\end{align}\n",
        "\n",
        "```\n",
        "Enter side a: 7\n",
        "Enter side b: 5\n",
        "The hypotenuse is 8.6023252670426267\n",
        "```"
      ],
      "metadata": {
        "id": "vcKAVdfTvWKk"
      }
    },
    {
      "cell_type": "code",
      "source": [
        "#Visios"
      ],
      "metadata": {
        "id": "vQrb9Mr4vVw5"
      },
      "execution_count": null,
      "outputs": []
    },
    {
      "cell_type": "code",
      "source": [
        "#Kunkin\n",
        "#I make the imputs a and b for sides\n",
        "a=float(input(\"Enter side a: \"))\n",
        "b=float(input(\"Enter side b: \"))\n",
        "#I calculate the hypotenuse\n",
        "h=(a**2+b**2)**0.5\n",
        "print(\"The hypotenuse is\",h)"
      ],
      "metadata": {
        "colab": {
          "base_uri": "https://localhost:8080/"
        },
        "id": "HWQPxRAovveF",
        "outputId": "4b7758fe-efc1-40f5-cd95-49dc2af32218"
      },
      "execution_count": null,
      "outputs": [
        {
          "output_type": "stream",
          "name": "stdout",
          "text": [
            "Enter side a: 7\n",
            "Enter side b: 5\n",
            "The hypotenuse is 8.602325267042627\n"
          ]
        }
      ]
    },
    {
      "cell_type": "markdown",
      "source": [
        "<a name=\"Future-time\"></a>\n",
        "## Future time [↑](#index)\n",
        "\n",
        "Write a program that prompts the user for the current time t of the clock and an integer number of hours h, which indicates what time the clock will display in h hours from now:\n",
        "\n",
        "```\n",
        "Current time: 3\n",
        "Number of hours: 5\n",
        "In 5 hours, the clock will display 8 o'clock\n",
        "```\n",
        "```\n",
        "Current time: 11\n",
        "Number of hours: 43\n",
        "In 43 hours, the clock will display 6 o'clock.\n",
        "```"
      ],
      "metadata": {
        "id": "X8ORyXP9wsv1"
      }
    },
    {
      "cell_type": "code",
      "source": [
        "#Visios"
      ],
      "metadata": {
        "id": "F6TNDXf5xCv-"
      },
      "execution_count": null,
      "outputs": []
    },
    {
      "cell_type": "code",
      "source": [
        "#Kunkin\n",
        "a=int(input(\"Current time: \"))\n",
        "b=int(input(\"Number of hours: \"))\n",
        "\n",
        "#With % operation we will know how much, further than 24 the sum will be.\n",
        "rest=(a+b)%24\n",
        "print(\"In\",b,\"hours, the clock will display\",rest,\"o'clock\")"
      ],
      "metadata": {
        "colab": {
          "base_uri": "https://localhost:8080/"
        },
        "id": "f_KOV3G0xDRI",
        "outputId": "41720477-f4d9-4d2f-95c7-b73c371a5fe6"
      },
      "execution_count": null,
      "outputs": [
        {
          "output_type": "stream",
          "name": "stdout",
          "text": [
            "Current time: 11\n",
            "Number of hours: 43\n",
            "In 43 hours, the clock will display 6 o'clock\n"
          ]
        }
      ]
    },
    {
      "cell_type": "markdown",
      "source": [
        "<a name=\"Decimal-part\"></a>\n",
        "## Decimal part [↑](#index)\n",
        "\n",
        "Write a program that delivers the decimal part of a real number entered by the user.\n",
        "```\n",
        "Enter a number: 4.5\n",
        "0.5\n",
        "```\n",
        "```\n",
        "Enter a number: -1.19\n",
        "0.19\n",
        "```"
      ],
      "metadata": {
        "id": "W5F-LwTcdl92"
      }
    },
    {
      "cell_type": "code",
      "source": [
        "#Visios"
      ],
      "metadata": {
        "id": "OZCsFMGyd8LZ"
      },
      "execution_count": null,
      "outputs": []
    },
    {
      "cell_type": "code",
      "source": [
        "#Kunkin\n",
        "a=float(input(\"Enter a number: \"))\n",
        "print(abs(a-int(a)),\"ew\")"
      ],
      "metadata": {
        "colab": {
          "base_uri": "https://localhost:8080/"
        },
        "id": "VG0ZVJWgd-Av",
        "outputId": "a7a07555-b7db-4d63-e06a-5593960a4e45"
      },
      "execution_count": null,
      "outputs": [
        {
          "output_type": "stream",
          "name": "stdout",
          "text": [
            "Enter a number: -1.19\n",
            "0.18999999999999995 ew\n"
          ]
        }
      ]
    },
    {
      "cell_type": "markdown",
      "source": [
        "I belive that with operations (mathematical) the result is horrible.\n",
        "Here I havea second aproach to the problem using `len()`."
      ],
      "metadata": {
        "id": "CZQ4svOU8WOj"
      }
    },
    {
      "cell_type": "code",
      "source": [
        "#Kunkin 2\n",
        "a=input(\"Enter a number: \")\n",
        "#Basically we are going to transform the STR to FLOAT, then extract the INT part.\n",
        "#Then convert the INT in STR and then read the inpot after the INT part\n",
        "#Then add 0 to the left part of the STR\n",
        "b=len(str(int(float(a))))\n",
        "print(\"0\"+a[b:])"
      ],
      "metadata": {
        "colab": {
          "base_uri": "https://localhost:8080/"
        },
        "id": "dtLW_LGO6pGF",
        "outputId": "f339121d-61de-4ecf-c2ae-000f3990710d"
      },
      "execution_count": null,
      "outputs": [
        {
          "output_type": "stream",
          "name": "stdout",
          "text": [
            "Enter a number: -1.19\n",
            "0.19\n"
          ]
        }
      ]
    },
    {
      "cell_type": "markdown",
      "source": [
        "<a name=\"What-grade-I-need\"></a>\n",
        "## What grade I need [↑](#index)\n",
        "\n",
        "A student wants to know what grade he needs in the third examination to pass a subject.\n",
        "\n",
        "The grade point average is calculated using the following formula.\n",
        "\n",
        "\\begin{align}\n",
        "NC=\\frac{(C1+C2+C3)}{3}\\\\\n",
        "NF=NC⋅0.7+NL⋅0.3\n",
        "\\end{align}\n",
        "\n",
        "Where NC\n",
        "is the average of examinations, NL the laboratory average and NF the final grade.\n",
        "\n",
        "Write a program that asks the user for the grades of the first two quizzes and the lab grade, and displays the grade the student needs to pass the course with a final grade of 60.\n",
        "```\n",
        "Enter grade exam 1: 45\n",
        "Enter grade exam 2: 55\n",
        "Enter lab grade: 65\n",
        "Needs grade 72 in exam 3\n",
        "```\n",
        "---\n",
        "Pd: I could help with the formula, but part of being a good programmer is to be in good terms with math too."
      ],
      "metadata": {
        "id": "mFHcQytiD6R7"
      }
    },
    {
      "cell_type": "code",
      "source": [
        "#Visios"
      ],
      "metadata": {
        "id": "s_VaJnh_E1rX"
      },
      "execution_count": null,
      "outputs": []
    },
    {
      "cell_type": "code",
      "source": [
        "#Kunkin\n",
        "NF=60\n",
        "C1=int(input(\"Enter grade exam 1: \"))\n",
        "C2=int(input(\"Enter grade exam 2: \"))\n",
        "NL=int(input(\"Enter lab grade: \"))\n",
        "\n",
        "C3=(NF-0.3*NL)*3/0.7-C1-C2\n",
        "print(\"Needs grade\",int(C3),\"in exam 3\")"
      ],
      "metadata": {
        "colab": {
          "base_uri": "https://localhost:8080/"
        },
        "id": "zLPrhYVeE3E-",
        "outputId": "5a9945ac-9d92-4f93-a81e-8d5641c65370"
      },
      "execution_count": null,
      "outputs": [
        {
          "output_type": "stream",
          "name": "stdout",
          "text": [
            "Enter grade exam 1: 45\n",
            "Enter grade exam 2: 55\n",
            "Enter lab grade: 65\n",
            "Needs grade 73 in exam 3\n"
          ]
        }
      ]
    },
    {
      "cell_type": "markdown",
      "source": [
        "<a name=\"Eggs-in-a-cup\"></a>\n",
        "## Eggs in a cup [↑](#index)\n",
        "\n",
        "When an egg is boiled in water, the proteins begin to coagulate when the temperature rises above a critical point. As the temperature increases, the reactions accelerate.\n",
        "\n",
        "In the white, the proteins begin to coagulate for temperatures above 63°C, while in the yolk they do so for temperatures above 70°C. To make a soft-boiled egg, the white must have been heated enough to coagulate above 63°C, but the yolk must not exceed 70°C to avoid obtaining a hard-boiled egg.\n",
        "\n",
        "The time in seconds it takes for the centre of the yolk to reach $T_y$\n",
        "°C is given by the formula:\n",
        "\n",
        "\\begin{align}\n",
        "t=\\frac{M^{2/3}c\\rho^{1/3}}{K\\pi^2(4\\pi/3)^{2/3}}\\ln\\left[0.76\\frac{T_o-T_w}{T_y-T_w}\\right]\n",
        "\\end{align}\n",
        "\n",
        "where $M$ is the mass of the egg, $\\rho$ its density, $c$ its specific heat capacity and $K$ its thermal conductivity. Typical values are:\n",
        "\n",
        "$M=47[g]$ for a small egg and\n",
        "\n",
        "$M=67[g]$ for a big egg,\n",
        "\n",
        "$ρ=1.038[gcm^{−3}]$\n",
        "\n",
        "$c=3.7[Jg^{−1}K^{−1}]$\n",
        "\n",
        "$K=5.4⋅10^{−3}[Wcm^{−1}K^{-1}]$\n",
        "\n",
        "$T_w$ is the boiling temperature of the water and\n",
        "\n",
        "$T_o$ is the original temperature of the egg before putting it in the water, both in degrees Celsius.\n",
        "\n",
        "Write a program that receives as input the original temperature of the egg and displays as output the time in seconds it takes to reach the maximum temperature to prepare the egg to the cup."
      ],
      "metadata": {
        "id": "kxuBXmK-QUTq"
      }
    },
    {
      "cell_type": "code",
      "source": [
        "#Visios"
      ],
      "metadata": {
        "id": "VzyOjliaS1nA"
      },
      "execution_count": null,
      "outputs": []
    },
    {
      "cell_type": "code",
      "source": [
        "#Kunkin\n",
        "from math import pi\n",
        "from numpy import log as ln\n",
        "M1=47\n",
        "M2=67\n",
        "rho=1.038\n",
        "c=3.7\n",
        "K=5.4e-3\n",
        "Tw=100\n",
        "Ty=70\n",
        "To=int(input(\"Egg origial temperature: \"))\n",
        "\n",
        "t1=int(((M1**(2/3)*c*rho**(1/3))/((K*pi**2)*(4*pi/3)**(2/3)))*ln(0.76*(To-Tw)/(Ty-Tw)))\n",
        "t2=int(((M2**(2/3)*c*rho**(1/3))/((K*pi**2)*(4*pi/3)**(2/3)))*ln(0.76*(To-Tw)/(Ty-Tw)))\n",
        "\n",
        "print(\"For a small egg it takes\",str(int(t1/60))+\"m\",str(t1%60)+\"s\",\"(\"+str(t1)+\"s)\")\n",
        "print(\"For a bigg egg it takes\",str(int(t2/60))+\"m\",str(t2%60)+\"s\",\"(\"+str(t2)+\"s)\")\n"
      ],
      "metadata": {
        "colab": {
          "base_uri": "https://localhost:8080/"
        },
        "id": "WLLVDxOqS3Lv",
        "outputId": "2707ea0e-c899-477c-a7e2-b2523e463b86"
      },
      "execution_count": null,
      "outputs": [
        {
          "output_type": "stream",
          "name": "stdout",
          "text": [
            "Egg origial temperature: 20\n",
            "For a small egg it takes 4m 8s (248s)\n",
            "For a bigg egg it takes 5m 15s (315s)\n"
          ]
        }
      ]
    },
    {
      "cell_type": "markdown",
      "source": [
        "<a name=\"Determine-even\"></a>\n",
        "## Determine even [↑](#index)\n",
        "\n",
        "Write a program that determines whether the integer number entered by the user is even or odd.\n",
        "\n",
        "```\n",
        "Enter a number: 4\n",
        "Your number is even\n",
        "```\n",
        "```\n",
        "Enter a number: 3\n",
        "Your number is odd\n",
        "```"
      ],
      "metadata": {
        "id": "J7kqfnvxZaZC"
      }
    },
    {
      "cell_type": "code",
      "source": [
        "#Visios"
      ],
      "metadata": {
        "id": "GgJlKn8NZxyQ"
      },
      "execution_count": null,
      "outputs": []
    },
    {
      "cell_type": "code",
      "source": [
        "#Kunkin\n",
        "a=int(input(\"Enter a number: \"))\n",
        "if a%2==0:\n",
        "  print(\"Your number is even\")\n",
        "else:\n",
        "  print(\"Your number is odd\")"
      ],
      "metadata": {
        "colab": {
          "base_uri": "https://localhost:8080/"
        },
        "id": "tzDUqRowZxbQ",
        "outputId": "c25ec593-561d-4634-8160-cfd44807cf5a"
      },
      "execution_count": null,
      "outputs": [
        {
          "output_type": "stream",
          "name": "stdout",
          "text": [
            "Enter a number: 3\n",
            "Your number is odd\n"
          ]
        }
      ]
    },
    {
      "cell_type": "markdown",
      "source": [
        "<a name=\"Leap-years\"></a>\n",
        "## Leap years[↑](#index)\n",
        "\n",
        "\n",
        "When the Earth completes one orbit around the Sun, not exactly 365 rotations around itself have elapsed, but a little more. More precisely, the difference is about a quarter of a day.\n",
        "\n",
        "To prevent the seasons from falling out of step with the calendar, the Julian calendar introduced the rule of introducing an additional day in years divisible by 4 (called leap years), to take into account the four accumulated quarter days.\n",
        "\n",
        "However, under this rule there is still a time lag, which is approximately 3/400 of a day.\n",
        "\n",
        "To correct this gap, in 1582 Pope Gregory XIII introduced a new calendar, in which the last year of each century was no longer a leap year unless it was divisible by 400.\n",
        "\n",
        "Write a program that indicates whether a year is a leap year or not, taking into account which calendar was in force in that year:\n",
        "\n",
        "```\n",
        "Enter a year: 1988\n",
        "1988 is a leap year\n",
        "```\n",
        "```\n",
        "Enter a year: 2011\n",
        "2011 is not a leap year\n",
        "```\n",
        "```\n",
        "Enter a year: 1700\n",
        "1700 is not a leap year\n",
        "```\n",
        "```\n",
        "Enter a year: 1500\n",
        "1500 is a leap year\n",
        "```\n",
        "```\n",
        "Enter a year: 2400\n",
        "2400 is a leap year\n",
        "```"
      ],
      "metadata": {
        "id": "97ZEBathaXl4"
      }
    },
    {
      "cell_type": "code",
      "source": [
        "#Visios"
      ],
      "metadata": {
        "id": "qylncktBbibN"
      },
      "execution_count": null,
      "outputs": []
    },
    {
      "cell_type": "code",
      "source": [
        "#Kunkin\n",
        "\n",
        "def leapornot(a):\n",
        "  L=0\n",
        "  if a%100==0:\n",
        "    #I waste to much time trying to undestand why year 1500 is leap\n",
        "    #The answer is, the rule of the 400 years was invented in 1582 D:\n",
        "    #so it was a leap year\n",
        "    if a%400==0 or a<1582:\n",
        "      L=1\n",
        "    else:\n",
        "      L=0\n",
        "  elif a%4==0:\n",
        "    L=1\n",
        "  else:\n",
        "    L=0\n",
        "  if L==1:\n",
        "    return str(a)+\" is a leap year\"\n",
        "  else:\n",
        "    return str(a)+\" is not a leap year\"\n",
        "\n",
        "years=[1988,2011,1700,1500,2400]\n",
        "for y in years:\n",
        "  print(leapornot(y))"
      ],
      "metadata": {
        "colab": {
          "base_uri": "https://localhost:8080/"
        },
        "id": "DjHwPOXAbiSm",
        "outputId": "bfeeb19c-a892-46df-b5d8-2aeb0ee83b7a"
      },
      "execution_count": null,
      "outputs": [
        {
          "output_type": "stream",
          "name": "stdout",
          "text": [
            "1988 is a leap year\n",
            "2011 is not a leap year\n",
            "1700 is not a leap year\n",
            "1500 is a leap year\n",
            "2400 is a leap year\n"
          ]
        }
      ]
    },
    {
      "cell_type": "markdown",
      "source": [
        "<a name=\"Division\"></a>\n",
        "## Division[↑](#index)\n",
        "\n",
        "Write a program that asks for two integers and calculates the division, indicating whether the division is exact or not.\n",
        "```\n",
        "Dividend: 14\n",
        "Divisor: 5\n",
        "\n",
        "The division is not exact.\n",
        "Quotient: 2\n",
        "Remainder: 4\n",
        "```\n",
        "```\n",
        "Dividend: 100\n",
        "Divisor: 10\n",
        "\n",
        "The division is exact.\n",
        "Quotient: 10\n",
        "Remainder: 0\n",
        "```"
      ],
      "metadata": {
        "id": "g4hNru-AXRr5"
      }
    },
    {
      "cell_type": "code",
      "source": [
        "#Visios"
      ],
      "metadata": {
        "id": "BecwEK-jXdrn"
      },
      "execution_count": null,
      "outputs": []
    },
    {
      "cell_type": "code",
      "source": [
        "#Kunkin\n",
        "\n",
        "p=[(14,5),(100,10)]\n",
        "\n",
        "#I make my algorithms with functions to make more than one output\n",
        "def division(dividend,divisor):\n",
        "  if dividend%divisor==0:\n",
        "    a=\"The division is exact\"\n",
        "  else:\n",
        "    a=\"The division is not exact\"\n",
        "  return(a,int(dividend/divisor),dividend%divisor)\n",
        "\n",
        "for pp in p:\n",
        "  dividend=pp[0];print(\"Dividend:\",dividend)\n",
        "  divisor=pp[1];print(\"Divisor:\",divisor,\"\\n\")\n",
        "  r=division(dividend,divisor)\n",
        "  print(r[0])\n",
        "  print(\"Quotient:\",r[1])\n",
        "  print(\"Remainder:\",r[2],\"\\n---\")"
      ],
      "metadata": {
        "colab": {
          "base_uri": "https://localhost:8080/"
        },
        "id": "tB347_8NXeCT",
        "outputId": "088e11a2-8bec-4db5-ff85-40760a8d3d62"
      },
      "execution_count": null,
      "outputs": [
        {
          "output_type": "stream",
          "name": "stdout",
          "text": [
            "Dividend: 14\n",
            "Divisor: 5 \n",
            "\n",
            "The division is not exact\n",
            "Quotient: 2\n",
            "Remainder: 4 \n",
            "---\n",
            "Dividend: 100\n",
            "Divisor: 10 \n",
            "\n",
            "The division is exact\n",
            "Quotient: 10\n",
            "Remainder: 0 \n",
            "---\n"
          ]
        }
      ]
    },
    {
      "cell_type": "markdown",
      "source": [
        "<a name=\"Longest-word\"></a>\n",
        "## Longest word[↑](#index)\n",
        "\n",
        "\n",
        "\n",
        "Write a program that prompts the user for two words, and tells which word is the longest and by how many letters.\n",
        "\n",
        "```\n",
        "Word 1: building\n",
        "Word 2: train\n",
        "The word building has 3 more letters than train.\n",
        "```\n",
        "```\n",
        "Word 1: sun\n",
        "Word 2: parallelepiped\n",
        "The word parallelepiped has 11 more letters than sun.\n",
        "```\n",
        "```\n",
        "Word 1: plancha\n",
        "Word 2: pencils\n",
        "The two words have the same length\n",
        "```"
      ],
      "metadata": {
        "id": "e6dMWsdWdBlg"
      }
    },
    {
      "cell_type": "code",
      "source": [
        "#Visios"
      ],
      "metadata": {
        "id": "aaq806qQdbbB"
      },
      "execution_count": null,
      "outputs": []
    },
    {
      "cell_type": "code",
      "source": [
        "#Kunkin\n",
        "p=[\n",
        "(\"building\",\"train\"),\n",
        "(\"sun\",\"parallelepiped\"),\n",
        "(\"plancha\",\"pencils\")\n",
        " ]\n",
        "\n",
        "for par in p:\n",
        "  w1=par[0]\n",
        "  lw1=len(w1)\n",
        "  print(\"Word 1:\",w1)\n",
        "  w2=par[1]\n",
        "  lw2=len(w2)\n",
        "  print(\"Word 2:\",w2)\n",
        "  if lw1!=lw2:\n",
        "    if lw1>lw2:\n",
        "      mayor=w1\n",
        "      menor=w2\n",
        "    else:\n",
        "      mayor=w2\n",
        "      menor=w1\n",
        "    print(\"The word\",mayor,\"has\",int(len(mayor)-len(menor)),\"more letters than\",menor)\n",
        "  else:\n",
        "    print(\"The two words have the same length\")\n",
        "  print(\"\\n---\\n\")"
      ],
      "metadata": {
        "colab": {
          "base_uri": "https://localhost:8080/"
        },
        "id": "8bz-W9NwddEM",
        "outputId": "393f0688-fc2e-45cb-d535-1d0a26fe919e"
      },
      "execution_count": null,
      "outputs": [
        {
          "output_type": "stream",
          "name": "stdout",
          "text": [
            "Word 1: building\n",
            "Word 2: train\n",
            "The word building has 3 more letters than train\n",
            "\n",
            "---\n",
            "\n",
            "Word 1: sun\n",
            "Word 2: parallelepiped\n",
            "The word parallelepiped has 11 more letters than sun\n",
            "\n",
            "---\n",
            "\n",
            "Word 1: plancha\n",
            "Word 2: pencils\n",
            "The two words have the same length\n",
            "\n",
            "---\n",
            "\n"
          ]
        }
      ]
    },
    {
      "cell_type": "markdown",
      "source": [
        "<a name=\"Sorting\"></a>\n",
        "## Sorting[↑](#index)\n",
        "\n",
        "\n",
        "Write a program that receives two numbers as input, and displays them in order from smallest to largest:\n",
        "```\n",
        "Enter number: 51\n",
        "Enter number: 24\n",
        "24 51\n",
        "```\n",
        "Next, write another program that does the same with three numbers:\n",
        "```\n",
        "Enter number: 8\n",
        "Enter number: 1\n",
        "Enter number: 4\n",
        "1 4 8\n",
        "```\n",
        "Finally, write a third program that sorts four numbers:\n",
        "\n",
        "```\n",
        "Enter number: 7\n",
        "Enter number: 0\n",
        "Enter number: 6\n",
        "Enter number: 1\n",
        "0 1 6 7\n",
        "```\n",
        "\n",
        "Remember that your program must deliver the correct solution for any combination of numbers, not just for the examples shown here.\n",
        "\n",
        "There is more than one way to solve each exercise."
      ],
      "metadata": {
        "id": "VrlNU-wYRS5N"
      }
    },
    {
      "cell_type": "code",
      "source": [
        "#Visios"
      ],
      "metadata": {
        "id": "YnHylVWIR0SB"
      },
      "execution_count": null,
      "outputs": []
    },
    {
      "cell_type": "code",
      "source": [
        "#Kunkin\n",
        "\n",
        "n=int(input(\"Enter the amount of numbers: \"))\n",
        "l=[]\n",
        "for i in range(n):\n",
        "  l.append(input(\"Enter number: \"))\n",
        "l.sort()\n",
        "print(\" \".join(l))"
      ],
      "metadata": {
        "colab": {
          "base_uri": "https://localhost:8080/"
        },
        "id": "YpoYsvilR0KL",
        "outputId": "e7cdd000-2b4d-484a-94de-3f9989ba4cdf"
      },
      "execution_count": null,
      "outputs": [
        {
          "output_type": "stream",
          "name": "stdout",
          "text": [
            "Enter the amount of numbers: 4\n",
            "Enter number: 12\n",
            "Enter number: 505\n",
            "Enter number: 967\n",
            "Enter number: 11\n",
            "11 12 505 967\n"
          ]
        }
      ]
    },
    {
      "cell_type": "markdown",
      "source": [
        "<a name=\"Letter-or-number\"></a>\n",
        "## Letter or number[↑](#index)\n",
        "\n",
        "\n",
        "Write a program that determines whether an input character is a letter, a number, or neither. If it is a letter, determine whether it is uppercase or lowercase.\n",
        "```\n",
        "Enter character: 9\n",
        "It is a number.\n",
        "```\n",
        "```\n",
        "Enter character: A\n",
        "It is an uppercase letter.\n",
        "```\n",
        "```\n",
        "Enter character: f\n",
        "Is a lower case letter.\n",
        "```\n",
        "```\n",
        "Enter character: #\n",
        "Is neither a letter nor a number.\n",
        "```"
      ],
      "metadata": {
        "id": "dx4dPS5oUeev"
      }
    },
    {
      "cell_type": "code",
      "source": [
        "#Visios"
      ],
      "metadata": {
        "id": "MkVaHFlPUxIf"
      },
      "execution_count": null,
      "outputs": []
    },
    {
      "cell_type": "code",
      "source": [
        "#Kunkin\n",
        "n=\"0123456789\"\n",
        "l=\"abcdefghijklmnñopqrstuvwxyz\"\n",
        "L=\"ABCDEFGHIJKLMNOPQRSTUVWXYZ\"\n",
        "a=input(\"Enter character: \")\n",
        "if a in n:\n",
        "  print(a,\"is a number.\")\n",
        "elif a in l:\n",
        "  print(a,\"is a lower case letter.\")\n",
        "elif a in L:\n",
        "  print(a,\"is a uppercase case letter.\")\n",
        "else:\n",
        "  print(a,\"is neither a letter nor a number.\")"
      ],
      "metadata": {
        "colab": {
          "base_uri": "https://localhost:8080/"
        },
        "id": "Yu-FnylfUwy5",
        "outputId": "27a3091f-5d54-4b91-ec5b-35d43ffd4cfa"
      },
      "execution_count": null,
      "outputs": [
        {
          "output_type": "stream",
          "name": "stdout",
          "text": [
            "Enter character: ñ\n",
            "ñ is a lower case letter.\n"
          ]
        }
      ]
    },
    {
      "cell_type": "markdown",
      "source": [
        "<a name=\"Pascal's-triangle\"></a>\n",
        "## Pascal's triangle[↑](#index)\n",
        "\n",
        "\n",
        "Develop a program that draws a Pascal triangle, that is, an arrangement of integers such that each is the sum of the two above it.\n",
        "\n",
        "Generate the first 20 lines. Consider that line 20 contains five-digit numbers."
      ],
      "metadata": {
        "id": "VgYEonkTXKSb"
      }
    },
    {
      "cell_type": "code",
      "source": [
        "#Visios"
      ],
      "metadata": {
        "id": "lPc1Ky_qXu2c"
      },
      "execution_count": null,
      "outputs": []
    },
    {
      "cell_type": "code",
      "source": [
        "#Kunkin\n",
        "l=20\n",
        "ini=[[1],[1,1]]\n",
        "m=0\n",
        "for i in range(l-2):\n",
        "  ii=ini[i+1]\n",
        "  lvl=[1]\n",
        "  for j in range(len(ii)-1):\n",
        "    n=ii[j]+ii[j+1]\n",
        "    lvl.append(n)\n",
        "    if n>m:\n",
        "      m=n\n",
        "  lvl.append(1)\n",
        "  ini.append(lvl)\n",
        "\n",
        "t=len(str(m));print(t)\n",
        "tt=(\" \")*t\n",
        "for i,j in enumerate(ini):\n",
        "  j=[str(r) for r in j]\n",
        "  jj=tt.join(j)\n",
        "  print(int((l-i)/2)*tt+jj)\n"
      ],
      "metadata": {
        "colab": {
          "base_uri": "https://localhost:8080/"
        },
        "id": "OYiGAYphXvkR",
        "outputId": "cac23b6f-c759-4f47-8499-5fa108c64ce0"
      },
      "execution_count": null,
      "outputs": [
        {
          "output_type": "stream",
          "name": "stdout",
          "text": [
            "5\n",
            "                                                  1\n",
            "                                             1     1\n",
            "                                             1     2     1\n",
            "                                        1     3     3     1\n",
            "                                        1     4     6     4     1\n",
            "                                   1     5     10     10     5     1\n",
            "                                   1     6     15     20     15     6     1\n",
            "                              1     7     21     35     35     21     7     1\n",
            "                              1     8     28     56     70     56     28     8     1\n",
            "                         1     9     36     84     126     126     84     36     9     1\n",
            "                         1     10     45     120     210     252     210     120     45     10     1\n",
            "                    1     11     55     165     330     462     462     330     165     55     11     1\n",
            "                    1     12     66     220     495     792     924     792     495     220     66     12     1\n",
            "               1     13     78     286     715     1287     1716     1716     1287     715     286     78     13     1\n",
            "               1     14     91     364     1001     2002     3003     3432     3003     2002     1001     364     91     14     1\n",
            "          1     15     105     455     1365     3003     5005     6435     6435     5005     3003     1365     455     105     15     1\n",
            "          1     16     120     560     1820     4368     8008     11440     12870     11440     8008     4368     1820     560     120     16     1\n",
            "     1     17     136     680     2380     6188     12376     19448     24310     24310     19448     12376     6188     2380     680     136     17     1\n",
            "     1     18     153     816     3060     8568     18564     31824     43758     48620     43758     31824     18564     8568     3060     816     153     18     1\n",
            "1     19     171     969     3876     11628     27132     50388     75582     92378     92378     75582     50388     27132     11628     3876     969     171     19     1\n"
          ]
        }
      ]
    }
  ]
}